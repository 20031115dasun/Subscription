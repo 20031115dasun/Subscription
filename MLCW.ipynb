{
 "cells": [
  {
   "cell_type": "code",
   "execution_count": null,
   "id": "6e8723a6-2472-43e7-a387-86fe2eef6a84",
   "metadata": {},
   "outputs": [],
   "source": [
    "import pandas as pd\n",
    "import numpy as np\n",
    "from sklearn.model_selection import train_test_split, GridSearchCV\n",
    "from sklearn.preprocessing import StandardScaler, LabelEncoder\n",
    "from sklearn.ensemble import RandomForestClassifier\n",
    "from sklearn.metrics import classification_report, roc_auc_score, roc_curve, confusion_matrix\n",
    "import matplotlib.pyplot as plt\n",
    "from tensorflow.keras.models import Sequential\n",
    "from tensorflow.keras.layers import Dense, Dropout, Input\n",
    "from tensorflow.keras.optimizers import Adam\n",
    "from imblearn.over_sampling import SMOTE\n",
    "\n"
   ]
  },
  {
   "cell_type": "code",
   "execution_count": 12,
   "id": "fee229fa-3636-48fe-a018-0db7751064d0",
   "metadata": {},
   "outputs": [
    {
     "name": "stdout",
     "output_type": "stream",
     "text": [
      "Dataset Preview:\n",
      "    age        job  marital    education  default housing loan    contact  \\\n",
      "0   56  housemaid  married     basic.4y       no      no   no  telephone   \n",
      "1   57   services  married  high.school  unknown      no   no  telephone   \n",
      "2   37   services  married  high.school       no     yes   no  telephone   \n",
      "3   40     admin.  married     basic.6y       no      no   no  telephone   \n",
      "4   56   services  married  high.school       no      no  yes  telephone   \n",
      "\n",
      "  month day_of_week  ...  campaign  pdays  previous     poutcome emp.var.rate  \\\n",
      "0   may         mon  ...         1    999         0  nonexistent          1.1   \n",
      "1   may         mon  ...         1    999         0  nonexistent          1.1   \n",
      "2   may         mon  ...         1    999         0  nonexistent          1.1   \n",
      "3   may         mon  ...         1    999         0  nonexistent          1.1   \n",
      "4   may         mon  ...         1    999         0  nonexistent          1.1   \n",
      "\n",
      "   cons.price.idx  cons.conf.idx  euribor3m  nr.employed   y  \n",
      "0          93.994          -36.4      4.857       5191.0  no  \n",
      "1          93.994          -36.4      4.857       5191.0  no  \n",
      "2          93.994          -36.4      4.857       5191.0  no  \n",
      "3          93.994          -36.4      4.857       5191.0  no  \n",
      "4          93.994          -36.4      4.857       5191.0  no  \n",
      "\n",
      "[5 rows x 21 columns]\n"
     ]
    }
   ],
   "source": [
    "# Load the dataset\n",
    "dataset = 'bank-additional-full.csv'\n",
    "data = pd.read_csv(dataset, delimiter=';')\n",
    "\n",
    "# Display the first few rows\n",
    "print(\"Dataset Preview:\\n\", data.head())\n",
    "\n"
   ]
  },
  {
   "cell_type": "code",
   "execution_count": 14,
   "id": "901710b8-c196-468c-8701-c46ccb1d6ab3",
   "metadata": {},
   "outputs": [
    {
     "name": "stdout",
     "output_type": "stream",
     "text": [
      "\n",
      "Original Class Distribution:\n",
      " y\n",
      "0    29238\n",
      "1     3712\n",
      "Name: count, dtype: int64\n",
      "\n",
      "Resampled Class Distribution:\n",
      " y\n",
      "0    29238\n",
      "1    29238\n",
      "Name: count, dtype: int64\n"
     ]
    }
   ],
   "source": [
    "# Encode the target variable\n",
    "data['y'] = LabelEncoder().fit_transform(data['y'])  # 'yes' -> 1, 'no' -> 0\n",
    "\n",
    "# Convert categorical features to dummy variables\n",
    "data = pd.get_dummies(data, drop_first=True)\n",
    "\n",
    "# Separate features and target variable\n",
    "X = data.drop(columns=['y'])\n",
    "y = data['y']\n",
    "\n",
    "# Split dataset into train and test sets\n",
    "X_train, X_test, y_train, y_test = train_test_split(X, y, test_size=0.2, random_state=42, stratify=y)\n",
    "\n",
    "# Display class distribution\n",
    "print(\"\\nOriginal Class Distribution:\\n\", y_train.value_counts())\n",
    "\n",
    "# Handle class imbalance using SMOTE\n",
    "smote = SMOTE(random_state=42)\n",
    "X_train_resampled, y_train_resampled = smote.fit_resample(X_train, y_train)\n",
    "\n",
    "# Display new class distribution after SMOTE\n",
    "print(\"\\nResampled Class Distribution:\\n\", pd.Series(y_train_resampled).value_counts())\n",
    "\n",
    "# Scale numerical features\n",
    "scaler = StandardScaler()\n",
    "X_train_resampled = scaler.fit_transform(X_train_resampled)\n",
    "X_test = scaler.transform(X_test)\n",
    "\n",
    "# Fine-tuning Random Forest\n",
    "rf_params = {\n",
    "    'n_estimators': [100, 200],\n",
    "    'max_depth': [10, 20, None],\n",
    "    'min_samples_split': [2, 5],\n",
    "    'min_samples_leaf': [1, 2],\n",
    "    'class_weight': ['balanced']\n",
    "}\n",
    "grid_rf = GridSearchCV(RandomForestClassifier(random_state=42), rf_params, cv=3, scoring='roc_auc', n_jobs=-1)\n",
    "grid_rf.fit(X_train_resampled, y_train_resampled)\n",
    "best_rf = grid_rf.best_estimator_\n",
    "\n",
    "# Evaluate Random Forest\n",
    "rf_pred_labels = best_rf.predict(X_test)\n",
    "rf_pred_prob = best_rf.predict_proba(X_test)[:, 1]\n",
    "\n"
   ]
  },
  {
   "cell_type": "code",
   "execution_count": 15,
   "id": "8c8629d2-5297-4cb1-a6df-1e32a437be7c",
   "metadata": {},
   "outputs": [
    {
     "name": "stdout",
     "output_type": "stream",
     "text": [
      "Epoch 1/50\n",
      "\u001b[1m1462/1462\u001b[0m \u001b[32m━━━━━━━━━━━━━━━━━━━━\u001b[0m\u001b[37m\u001b[0m \u001b[1m4s\u001b[0m 2ms/step - accuracy: 0.8691 - loss: 0.2931 - val_accuracy: 0.9808 - val_loss: 0.0623\n",
      "Epoch 2/50\n",
      "\u001b[1m1462/1462\u001b[0m \u001b[32m━━━━━━━━━━━━━━━━━━━━\u001b[0m\u001b[37m\u001b[0m \u001b[1m3s\u001b[0m 2ms/step - accuracy: 0.9238 - loss: 0.1637 - val_accuracy: 0.9752 - val_loss: 0.0586\n",
      "Epoch 3/50\n",
      "\u001b[1m1462/1462\u001b[0m \u001b[32m━━━━━━━━━━━━━━━━━━━━\u001b[0m\u001b[37m\u001b[0m \u001b[1m2s\u001b[0m 2ms/step - accuracy: 0.9264 - loss: 0.1553 - val_accuracy: 0.9830 - val_loss: 0.0431\n",
      "Epoch 4/50\n",
      "\u001b[1m1462/1462\u001b[0m \u001b[32m━━━━━━━━━━━━━━━━━━━━\u001b[0m\u001b[37m\u001b[0m \u001b[1m2s\u001b[0m 2ms/step - accuracy: 0.9308 - loss: 0.1491 - val_accuracy: 0.9836 - val_loss: 0.0389\n",
      "Epoch 5/50\n",
      "\u001b[1m1462/1462\u001b[0m \u001b[32m━━━━━━━━━━━━━━━━━━━━\u001b[0m\u001b[37m\u001b[0m \u001b[1m2s\u001b[0m 2ms/step - accuracy: 0.9318 - loss: 0.1437 - val_accuracy: 0.9863 - val_loss: 0.0324\n",
      "Epoch 6/50\n",
      "\u001b[1m1462/1462\u001b[0m \u001b[32m━━━━━━━━━━━━━━━━━━━━\u001b[0m\u001b[37m\u001b[0m \u001b[1m3s\u001b[0m 2ms/step - accuracy: 0.9315 - loss: 0.1433 - val_accuracy: 0.9895 - val_loss: 0.0276\n",
      "Epoch 7/50\n",
      "\u001b[1m1462/1462\u001b[0m \u001b[32m━━━━━━━━━━━━━━━━━━━━\u001b[0m\u001b[37m\u001b[0m \u001b[1m3s\u001b[0m 2ms/step - accuracy: 0.9325 - loss: 0.1410 - val_accuracy: 0.9843 - val_loss: 0.0355\n",
      "Epoch 8/50\n",
      "\u001b[1m1462/1462\u001b[0m \u001b[32m━━━━━━━━━━━━━━━━━━━━\u001b[0m\u001b[37m\u001b[0m \u001b[1m3s\u001b[0m 2ms/step - accuracy: 0.9327 - loss: 0.1398 - val_accuracy: 0.9863 - val_loss: 0.0325\n",
      "Epoch 9/50\n",
      "\u001b[1m1462/1462\u001b[0m \u001b[32m━━━━━━━━━━━━━━━━━━━━\u001b[0m\u001b[37m\u001b[0m \u001b[1m2s\u001b[0m 2ms/step - accuracy: 0.9367 - loss: 0.1318 - val_accuracy: 0.9856 - val_loss: 0.0315\n",
      "Epoch 10/50\n",
      "\u001b[1m1462/1462\u001b[0m \u001b[32m━━━━━━━━━━━━━━━━━━━━\u001b[0m\u001b[37m\u001b[0m \u001b[1m2s\u001b[0m 2ms/step - accuracy: 0.9362 - loss: 0.1349 - val_accuracy: 0.9857 - val_loss: 0.0316\n",
      "Epoch 11/50\n",
      "\u001b[1m1462/1462\u001b[0m \u001b[32m━━━━━━━━━━━━━━━━━━━━\u001b[0m\u001b[37m\u001b[0m \u001b[1m2s\u001b[0m 2ms/step - accuracy: 0.9367 - loss: 0.1340 - val_accuracy: 0.9843 - val_loss: 0.0340\n",
      "Epoch 12/50\n",
      "\u001b[1m1462/1462\u001b[0m \u001b[32m━━━━━━━━━━━━━━━━━━━━\u001b[0m\u001b[37m\u001b[0m \u001b[1m2s\u001b[0m 2ms/step - accuracy: 0.9381 - loss: 0.1294 - val_accuracy: 0.9841 - val_loss: 0.0328\n",
      "Epoch 13/50\n",
      "\u001b[1m1462/1462\u001b[0m \u001b[32m━━━━━━━━━━━━━━━━━━━━\u001b[0m\u001b[37m\u001b[0m \u001b[1m2s\u001b[0m 2ms/step - accuracy: 0.9367 - loss: 0.1341 - val_accuracy: 0.9868 - val_loss: 0.0326\n",
      "Epoch 14/50\n",
      "\u001b[1m1462/1462\u001b[0m \u001b[32m━━━━━━━━━━━━━━━━━━━━\u001b[0m\u001b[37m\u001b[0m \u001b[1m3s\u001b[0m 2ms/step - accuracy: 0.9366 - loss: 0.1314 - val_accuracy: 0.9870 - val_loss: 0.0309\n",
      "Epoch 15/50\n",
      "\u001b[1m1462/1462\u001b[0m \u001b[32m━━━━━━━━━━━━━━━━━━━━\u001b[0m\u001b[37m\u001b[0m \u001b[1m2s\u001b[0m 2ms/step - accuracy: 0.9375 - loss: 0.1315 - val_accuracy: 0.9872 - val_loss: 0.0292\n",
      "Epoch 16/50\n",
      "\u001b[1m1462/1462\u001b[0m \u001b[32m━━━━━━━━━━━━━━━━━━━━\u001b[0m\u001b[37m\u001b[0m \u001b[1m2s\u001b[0m 2ms/step - accuracy: 0.9369 - loss: 0.1333 - val_accuracy: 0.9890 - val_loss: 0.0263\n",
      "Epoch 17/50\n",
      "\u001b[1m1462/1462\u001b[0m \u001b[32m━━━━━━━━━━━━━━━━━━━━\u001b[0m\u001b[37m\u001b[0m \u001b[1m2s\u001b[0m 2ms/step - accuracy: 0.9381 - loss: 0.1310 - val_accuracy: 0.9891 - val_loss: 0.0265\n",
      "Epoch 18/50\n",
      "\u001b[1m1462/1462\u001b[0m \u001b[32m━━━━━━━━━━━━━━━━━━━━\u001b[0m\u001b[37m\u001b[0m \u001b[1m2s\u001b[0m 2ms/step - accuracy: 0.9401 - loss: 0.1269 - val_accuracy: 0.9874 - val_loss: 0.0281\n",
      "Epoch 19/50\n",
      "\u001b[1m1462/1462\u001b[0m \u001b[32m━━━━━━━━━━━━━━━━━━━━\u001b[0m\u001b[37m\u001b[0m \u001b[1m2s\u001b[0m 2ms/step - accuracy: 0.9409 - loss: 0.1247 - val_accuracy: 0.9858 - val_loss: 0.0326\n",
      "Epoch 20/50\n",
      "\u001b[1m1462/1462\u001b[0m \u001b[32m━━━━━━━━━━━━━━━━━━━━\u001b[0m\u001b[37m\u001b[0m \u001b[1m4s\u001b[0m 2ms/step - accuracy: 0.9412 - loss: 0.1255 - val_accuracy: 0.9875 - val_loss: 0.0273\n",
      "Epoch 21/50\n",
      "\u001b[1m1462/1462\u001b[0m \u001b[32m━━━━━━━━━━━━━━━━━━━━\u001b[0m\u001b[37m\u001b[0m \u001b[1m2s\u001b[0m 2ms/step - accuracy: 0.9414 - loss: 0.1271 - val_accuracy: 0.9868 - val_loss: 0.0292\n",
      "Epoch 22/50\n",
      "\u001b[1m1462/1462\u001b[0m \u001b[32m━━━━━━━━━━━━━━━━━━━━\u001b[0m\u001b[37m\u001b[0m \u001b[1m2s\u001b[0m 2ms/step - accuracy: 0.9410 - loss: 0.1248 - val_accuracy: 0.9896 - val_loss: 0.0245\n",
      "Epoch 23/50\n",
      "\u001b[1m1462/1462\u001b[0m \u001b[32m━━━━━━━━━━━━━━━━━━━━\u001b[0m\u001b[37m\u001b[0m \u001b[1m2s\u001b[0m 2ms/step - accuracy: 0.9394 - loss: 0.1257 - val_accuracy: 0.9873 - val_loss: 0.0263\n",
      "Epoch 24/50\n",
      "\u001b[1m1462/1462\u001b[0m \u001b[32m━━━━━━━━━━━━━━━━━━━━\u001b[0m\u001b[37m\u001b[0m \u001b[1m2s\u001b[0m 2ms/step - accuracy: 0.9419 - loss: 0.1225 - val_accuracy: 0.9888 - val_loss: 0.0251\n",
      "Epoch 25/50\n",
      "\u001b[1m1462/1462\u001b[0m \u001b[32m━━━━━━━━━━━━━━━━━━━━\u001b[0m\u001b[37m\u001b[0m \u001b[1m2s\u001b[0m 2ms/step - accuracy: 0.9414 - loss: 0.1247 - val_accuracy: 0.9885 - val_loss: 0.0253\n",
      "Epoch 26/50\n",
      "\u001b[1m1462/1462\u001b[0m \u001b[32m━━━━━━━━━━━━━━━━━━━━\u001b[0m\u001b[37m\u001b[0m \u001b[1m3s\u001b[0m 2ms/step - accuracy: 0.9411 - loss: 0.1244 - val_accuracy: 0.9891 - val_loss: 0.0243\n",
      "Epoch 27/50\n",
      "\u001b[1m1462/1462\u001b[0m \u001b[32m━━━━━━━━━━━━━━━━━━━━\u001b[0m\u001b[37m\u001b[0m \u001b[1m2s\u001b[0m 2ms/step - accuracy: 0.9405 - loss: 0.1225 - val_accuracy: 0.9869 - val_loss: 0.0270\n",
      "Epoch 28/50\n",
      "\u001b[1m1462/1462\u001b[0m \u001b[32m━━━━━━━━━━━━━━━━━━━━\u001b[0m\u001b[37m\u001b[0m \u001b[1m2s\u001b[0m 2ms/step - accuracy: 0.9422 - loss: 0.1218 - val_accuracy: 0.9900 - val_loss: 0.0243\n",
      "Epoch 29/50\n",
      "\u001b[1m1462/1462\u001b[0m \u001b[32m━━━━━━━━━━━━━━━━━━━━\u001b[0m\u001b[37m\u001b[0m \u001b[1m2s\u001b[0m 2ms/step - accuracy: 0.9433 - loss: 0.1205 - val_accuracy: 0.9862 - val_loss: 0.0273\n",
      "Epoch 30/50\n",
      "\u001b[1m1462/1462\u001b[0m \u001b[32m━━━━━━━━━━━━━━━━━━━━\u001b[0m\u001b[37m\u001b[0m \u001b[1m2s\u001b[0m 2ms/step - accuracy: 0.9427 - loss: 0.1199 - val_accuracy: 0.9867 - val_loss: 0.0250\n",
      "Epoch 31/50\n",
      "\u001b[1m1462/1462\u001b[0m \u001b[32m━━━━━━━━━━━━━━━━━━━━\u001b[0m\u001b[37m\u001b[0m \u001b[1m2s\u001b[0m 2ms/step - accuracy: 0.9445 - loss: 0.1191 - val_accuracy: 0.9904 - val_loss: 0.0217\n",
      "Epoch 32/50\n",
      "\u001b[1m1462/1462\u001b[0m \u001b[32m━━━━━━━━━━━━━━━━━━━━\u001b[0m\u001b[37m\u001b[0m \u001b[1m3s\u001b[0m 2ms/step - accuracy: 0.9426 - loss: 0.1193 - val_accuracy: 0.9902 - val_loss: 0.0230\n",
      "Epoch 33/50\n",
      "\u001b[1m1462/1462\u001b[0m \u001b[32m━━━━━━━━━━━━━━━━━━━━\u001b[0m\u001b[37m\u001b[0m \u001b[1m3s\u001b[0m 2ms/step - accuracy: 0.9450 - loss: 0.1181 - val_accuracy: 0.9898 - val_loss: 0.0236\n",
      "Epoch 34/50\n",
      "\u001b[1m1462/1462\u001b[0m \u001b[32m━━━━━━━━━━━━━━━━━━━━\u001b[0m\u001b[37m\u001b[0m \u001b[1m2s\u001b[0m 2ms/step - accuracy: 0.9470 - loss: 0.1175 - val_accuracy: 0.9891 - val_loss: 0.0237\n",
      "Epoch 35/50\n",
      "\u001b[1m1462/1462\u001b[0m \u001b[32m━━━━━━━━━━━━━━━━━━━━\u001b[0m\u001b[37m\u001b[0m \u001b[1m3s\u001b[0m 2ms/step - accuracy: 0.9436 - loss: 0.1178 - val_accuracy: 0.9891 - val_loss: 0.0239\n",
      "Epoch 36/50\n",
      "\u001b[1m1462/1462\u001b[0m \u001b[32m━━━━━━━━━━━━━━━━━━━━\u001b[0m\u001b[37m\u001b[0m \u001b[1m2s\u001b[0m 2ms/step - accuracy: 0.9461 - loss: 0.1164 - val_accuracy: 0.9869 - val_loss: 0.0261\n",
      "Epoch 37/50\n",
      "\u001b[1m1462/1462\u001b[0m \u001b[32m━━━━━━━━━━━━━━━━━━━━\u001b[0m\u001b[37m\u001b[0m \u001b[1m2s\u001b[0m 2ms/step - accuracy: 0.9435 - loss: 0.1172 - val_accuracy: 0.9880 - val_loss: 0.0243\n",
      "Epoch 38/50\n",
      "\u001b[1m1462/1462\u001b[0m \u001b[32m━━━━━━━━━━━━━━━━━━━━\u001b[0m\u001b[37m\u001b[0m \u001b[1m3s\u001b[0m 2ms/step - accuracy: 0.9453 - loss: 0.1155 - val_accuracy: 0.9864 - val_loss: 0.0262\n",
      "Epoch 39/50\n",
      "\u001b[1m1462/1462\u001b[0m \u001b[32m━━━━━━━━━━━━━━━━━━━━\u001b[0m\u001b[37m\u001b[0m \u001b[1m3s\u001b[0m 2ms/step - accuracy: 0.9459 - loss: 0.1151 - val_accuracy: 0.9898 - val_loss: 0.0217\n",
      "Epoch 40/50\n",
      "\u001b[1m1462/1462\u001b[0m \u001b[32m━━━━━━━━━━━━━━━━━━━━\u001b[0m\u001b[37m\u001b[0m \u001b[1m2s\u001b[0m 2ms/step - accuracy: 0.9476 - loss: 0.1113 - val_accuracy: 0.9891 - val_loss: 0.0227\n",
      "Epoch 41/50\n",
      "\u001b[1m1462/1462\u001b[0m \u001b[32m━━━━━━━━━━━━━━━━━━━━\u001b[0m\u001b[37m\u001b[0m \u001b[1m3s\u001b[0m 2ms/step - accuracy: 0.9476 - loss: 0.1111 - val_accuracy: 0.9878 - val_loss: 0.0234\n",
      "Epoch 42/50\n",
      "\u001b[1m1462/1462\u001b[0m \u001b[32m━━━━━━━━━━━━━━━━━━━━\u001b[0m\u001b[37m\u001b[0m \u001b[1m3s\u001b[0m 2ms/step - accuracy: 0.9441 - loss: 0.1159 - val_accuracy: 0.9899 - val_loss: 0.0215\n",
      "Epoch 43/50\n",
      "\u001b[1m1462/1462\u001b[0m \u001b[32m━━━━━━━━━━━━━━━━━━━━\u001b[0m\u001b[37m\u001b[0m \u001b[1m3s\u001b[0m 2ms/step - accuracy: 0.9460 - loss: 0.1154 - val_accuracy: 0.9872 - val_loss: 0.0249\n",
      "Epoch 44/50\n",
      "\u001b[1m1462/1462\u001b[0m \u001b[32m━━━━━━━━━━━━━━━━━━━━\u001b[0m\u001b[37m\u001b[0m \u001b[1m3s\u001b[0m 2ms/step - accuracy: 0.9464 - loss: 0.1152 - val_accuracy: 0.9890 - val_loss: 0.0231\n",
      "Epoch 45/50\n",
      "\u001b[1m1462/1462\u001b[0m \u001b[32m━━━━━━━━━━━━━━━━━━━━\u001b[0m\u001b[37m\u001b[0m \u001b[1m3s\u001b[0m 2ms/step - accuracy: 0.9495 - loss: 0.1101 - val_accuracy: 0.9887 - val_loss: 0.0239\n",
      "Epoch 46/50\n",
      "\u001b[1m1462/1462\u001b[0m \u001b[32m━━━━━━━━━━━━━━━━━━━━\u001b[0m\u001b[37m\u001b[0m \u001b[1m3s\u001b[0m 2ms/step - accuracy: 0.9478 - loss: 0.1125 - val_accuracy: 0.9897 - val_loss: 0.0217\n",
      "Epoch 47/50\n",
      "\u001b[1m1462/1462\u001b[0m \u001b[32m━━━━━━━━━━━━━━━━━━━━\u001b[0m\u001b[37m\u001b[0m \u001b[1m2s\u001b[0m 2ms/step - accuracy: 0.9473 - loss: 0.1129 - val_accuracy: 0.9903 - val_loss: 0.0214\n",
      "Epoch 48/50\n",
      "\u001b[1m1462/1462\u001b[0m \u001b[32m━━━━━━━━━━━━━━━━━━━━\u001b[0m\u001b[37m\u001b[0m \u001b[1m2s\u001b[0m 2ms/step - accuracy: 0.9479 - loss: 0.1097 - val_accuracy: 0.9908 - val_loss: 0.0203\n",
      "Epoch 49/50\n",
      "\u001b[1m1462/1462\u001b[0m \u001b[32m━━━━━━━━━━━━━━━━━━━━\u001b[0m\u001b[37m\u001b[0m \u001b[1m3s\u001b[0m 2ms/step - accuracy: 0.9476 - loss: 0.1113 - val_accuracy: 0.9893 - val_loss: 0.0215\n",
      "Epoch 50/50\n",
      "\u001b[1m1462/1462\u001b[0m \u001b[32m━━━━━━━━━━━━━━━━━━━━\u001b[0m\u001b[37m\u001b[0m \u001b[1m3s\u001b[0m 2ms/step - accuracy: 0.9460 - loss: 0.1130 - val_accuracy: 0.9906 - val_loss: 0.0204\n",
      "\u001b[1m258/258\u001b[0m \u001b[32m━━━━━━━━━━━━━━━━━━━━\u001b[0m\u001b[37m\u001b[0m \u001b[1m0s\u001b[0m 1ms/step  \n"
     ]
    }
   ],
   "source": [
    "# Neural Network Model\n",
    "nn_model = Sequential([\n",
    "    Input(shape=(X_train_resampled.shape[1],)),\n",
    "    Dense(128, activation='relu'),\n",
    "    Dropout(0.3),\n",
    "    Dense(64, activation='relu'),\n",
    "    Dropout(0.3),\n",
    "    Dense(1, activation='sigmoid')\n",
    "])\n",
    "\n",
    "# Compile the Neural Network\n",
    "nn_model.compile(optimizer=Adam(learning_rate=0.001), loss='binary_crossentropy', metrics=['accuracy'])\n",
    "\n",
    "# Train the Neural Network\n",
    "nn_model.fit(X_train_resampled, y_train_resampled, epochs=50, batch_size=32, validation_split=0.2)\n",
    "\n",
    "# Evaluate Neural Network\n",
    "nn_pred_prob = nn_model.predict(X_test).flatten()\n",
    "nn_pred_labels = (nn_pred_prob > 0.5).astype(int)\n",
    "\n"
   ]
  },
  {
   "cell_type": "code",
   "execution_count": 16,
   "id": "339d3e7b-b05c-46a5-ae04-90b1018ba328",
   "metadata": {},
   "outputs": [
    {
     "name": "stdout",
     "output_type": "stream",
     "text": [
      "\n",
      "Random Forest Classification Report:\n",
      "               precision    recall  f1-score   support\n",
      "\n",
      "           0       0.95      0.95      0.95      7310\n",
      "           1       0.62      0.62      0.62       928\n",
      "\n",
      "    accuracy                           0.91      8238\n",
      "   macro avg       0.78      0.78      0.78      8238\n",
      "weighted avg       0.91      0.91      0.91      8238\n",
      "\n",
      "\n",
      "Neural Network Classification Report:\n",
      "               precision    recall  f1-score   support\n",
      "\n",
      "           0       0.94      0.96      0.95      7310\n",
      "           1       0.64      0.51      0.57       928\n",
      "\n",
      "    accuracy                           0.91      8238\n",
      "   macro avg       0.79      0.74      0.76      8238\n",
      "weighted avg       0.91      0.91      0.91      8238\n",
      "\n"
     ]
    }
   ],
   "source": [
    "# Classification Reports\n",
    "print(\"\\nRandom Forest Classification Report:\\n\", classification_report(y_test, rf_pred_labels))\n",
    "print(\"\\nNeural Network Classification Report:\\n\", classification_report(y_test, nn_pred_labels))\n",
    "\n"
   ]
  },
  {
   "cell_type": "code",
   "execution_count": 17,
   "id": "697855b5-2fe5-4a2f-b49d-239014d61819",
   "metadata": {},
   "outputs": [
    {
     "data": {
      "image/png": "[encoded data removed]",
      "text/plain": [
       "<Figure size 1000x600 with 1 Axes>"
      ]
     },
     "metadata": {},
     "output_type": "display_data"
    }
   ],
   "source": [
    "# Plot ROC Curves\n",
    "rf_fpr, rf_tpr, _ = roc_curve(y_test, rf_pred_prob)\n",
    "nn_fpr, nn_tpr, _ = roc_curve(y_test, nn_pred_prob)\n",
    "\n",
    "plt.figure(figsize=(10, 6))\n",
    "plt.plot(rf_fpr, rf_tpr, label='Random Forest (AUC = {:.2f})'.format(roc_auc_score(y_test, rf_pred_prob)))\n",
    "plt.plot(nn_fpr, nn_tpr, label='Neural Network (AUC = {:.2f})'.format(roc_auc_score(y_test, nn_pred_prob)))\n",
    "plt.plot([0, 1], [0, 1], 'k--', label='Chance')\n",
    "plt.xlabel('False Positive Rate')\n",
    "plt.ylabel('True Positive Rate')\n",
    "plt.title('ROC Curve')\n",
    "plt.legend()\n",
    "plt.show()\n",
    "\n"
   ]
  },
  {
   "cell_type": "code",
   "execution_count": 18,
   "id": "de1f9c42-b5ae-4f64-976c-b7aafcc3106c",
   "metadata": {},
   "outputs": [
    {
     "name": "stdout",
     "output_type": "stream",
     "text": [
      "\n",
      "Random Forest Predictions for 20 Samples:\n",
      "Sample 1: True Label = 0, RF Prediction = 0, RF Probability = 0.0050\n",
      "Sample 2: True Label = 0, RF Prediction = 0, RF Probability = 0.1550\n",
      "Sample 3: True Label = 0, RF Prediction = 0, RF Probability = 0.3850\n",
      "Sample 4: True Label = 0, RF Prediction = 0, RF Probability = 0.0050\n",
      "Sample 5: True Label = 0, RF Prediction = 0, RF Probability = 0.3850\n",
      "Sample 6: True Label = 0, RF Prediction = 0, RF Probability = 0.1750\n",
      "Sample 7: True Label = 0, RF Prediction = 0, RF Probability = 0.0100\n",
      "Sample 8: True Label = 0, RF Prediction = 0, RF Probability = 0.0000\n",
      "Sample 9: True Label = 1, RF Prediction = 1, RF Probability = 0.7950\n",
      "Sample 10: True Label = 0, RF Prediction = 0, RF Probability = 0.0050\n",
      "Sample 11: True Label = 0, RF Prediction = 0, RF Probability = 0.3250\n",
      "Sample 12: True Label = 0, RF Prediction = 0, RF Probability = 0.0000\n",
      "Sample 13: True Label = 0, RF Prediction = 0, RF Probability = 0.0350\n",
      "Sample 14: True Label = 0, RF Prediction = 0, RF Probability = 0.2150\n",
      "Sample 15: True Label = 0, RF Prediction = 0, RF Probability = 0.0050\n",
      "Sample 16: True Label = 0, RF Prediction = 0, RF Probability = 0.0000\n",
      "Sample 17: True Label = 1, RF Prediction = 1, RF Probability = 0.8400\n",
      "Sample 18: True Label = 0, RF Prediction = 0, RF Probability = 0.3900\n",
      "Sample 19: True Label = 0, RF Prediction = 0, RF Probability = 0.0000\n",
      "Sample 20: True Label = 1, RF Prediction = 1, RF Probability = 0.6500\n"
     ]
    }
   ],
   "source": [
    "# Predictions for 20 Samples from Test Dataset\n",
    "X_test_sample = X_test[:20]\n",
    "y_test_sample = y_test[:20]\n",
    "\n",
    "# Random Forest Predictions\n",
    "rf_pred_labels_sample = best_rf.predict(X_test_sample)\n",
    "rf_pred_prob_sample = best_rf.predict_proba(X_test_sample)[:, 1]\n",
    "\n",
    "print(\"\\nRandom Forest Predictions for 20 Samples:\")\n",
    "for i in range(len(y_test_sample)):\n",
    "    print(f\"Sample {i + 1}: True Label = {y_test_sample.iloc[i]}, \"\n",
    "          f\"RF Prediction = {rf_pred_labels_sample[i]}, \"\n",
    "          f\"RF Probability = {rf_pred_prob_sample[i]:.4f}\")\n",
    "\n"
   ]
  },
  {
   "cell_type": "code",
   "execution_count": 19,
   "id": "2ba9232d-e815-45f3-b2ba-dea6086908ea",
   "metadata": {
    "scrolled": true
   },
   "outputs": [
    {
     "name": "stdout",
     "output_type": "stream",
     "text": [
      "\u001b[1m1/1\u001b[0m \u001b[32m━━━━━━━━━━━━━━━━━━━━\u001b[0m\u001b[37m\u001b[0m \u001b[1m0s\u001b[0m 40ms/step\n",
      "\n",
      "Neural Network Predictions for 20 Samples:\n",
      "Sample 1: True Label = 0, NN Prediction = 0, NN Probability = 0.0000\n",
      "Sample 2: True Label = 0, NN Prediction = 0, NN Probability = 0.0317\n",
      "Sample 3: True Label = 0, NN Prediction = 0, NN Probability = 0.1394\n",
      "Sample 4: True Label = 0, NN Prediction = 0, NN Probability = 0.0000\n",
      "Sample 5: True Label = 0, NN Prediction = 0, NN Probability = 0.3972\n",
      "Sample 6: True Label = 0, NN Prediction = 0, NN Probability = 0.1360\n",
      "Sample 7: True Label = 0, NN Prediction = 0, NN Probability = 0.0079\n",
      "Sample 8: True Label = 0, NN Prediction = 0, NN Probability = 0.0000\n",
      "Sample 9: True Label = 1, NN Prediction = 1, NN Probability = 0.7152\n",
      "Sample 10: True Label = 0, NN Prediction = 0, NN Probability = 0.0000\n",
      "Sample 11: True Label = 0, NN Prediction = 0, NN Probability = 0.1897\n",
      "Sample 12: True Label = 0, NN Prediction = 0, NN Probability = 0.0000\n",
      "Sample 13: True Label = 0, NN Prediction = 0, NN Probability = 0.0087\n",
      "Sample 14: True Label = 0, NN Prediction = 0, NN Probability = 0.0004\n",
      "Sample 15: True Label = 0, NN Prediction = 0, NN Probability = 0.0000\n",
      "Sample 16: True Label = 0, NN Prediction = 0, NN Probability = 0.0000\n",
      "Sample 17: True Label = 1, NN Prediction = 1, NN Probability = 0.8980\n",
      "Sample 18: True Label = 0, NN Prediction = 0, NN Probability = 0.2891\n",
      "Sample 19: True Label = 0, NN Prediction = 0, NN Probability = 0.0000\n",
      "Sample 20: True Label = 1, NN Prediction = 0, NN Probability = 0.4883\n"
     ]
    }
   ],
   "source": [
    "# Neural Network Predictions\n",
    "nn_pred_prob_sample = nn_model.predict(X_test_sample).flatten()\n",
    "nn_pred_labels_sample = (nn_pred_prob_sample > 0.5).astype(int)\n",
    "\n",
    "print(\"\\nNeural Network Predictions for 20 Samples:\")\n",
    "for i in range(len(y_test_sample)):\n",
    "    print(f\"Sample {i + 1}: True Label = {y_test_sample.iloc[i]}, \"\n",
    "          f\"NN Prediction = {nn_pred_labels_sample[i]}, \"\n",
    "          f\"NN Probability = {nn_pred_prob_sample[i]:.4f}\")\n"
   ]
  },
  {
   "cell_type": "code",
   "execution_count": 26,
   "id": "71d238ee-9c18-48a2-804e-e1f5d9c2f31e",
   "metadata": {},
   "outputs": [
    {
     "name": "stderr",
     "output_type": "stream",
     "text": [
      "warning: in the working copy of '.ipynb_checkpoints/MLCW-checkpoint.ipynb', LF will be replaced by CRLF the next time Git touches it\n",
      "warning: in the working copy of 'MLCW.ipynb', LF will be replaced by CRLF the next time Git touches it\n"
     ]
    },
    {
     "name": "stdout",
     "output_type": "stream",
     "text": [
      "[main 1c5bb7c] With ROC analysis\n",
      " 2 files changed, 574 insertions(+), 391 deletions(-)\n"
     ]
    }
   ],
   "source": [
    "!git add .\n",
    "!git commit -m \"With ROC analysis\"\n"
   ]
  },
  {
   "cell_type": "code",
   "execution_count": null,
   "id": "e36e8868-5fe3-4a2b-9152-3e6a0d640a51",
   "metadata": {},
   "outputs": [],
   "source": []
  }
 ],
 "metadata": {
  "kernelspec": {
   "display_name": "Python 3 (ipykernel)",
   "language": "python",
   "name": "python3"
  },
  "language_info": {
   "codemirror_mode": {
    "name": "ipython",
    "version": 3
   },
   "file_extension": ".py",
   "mimetype": "text/x-python",
   "name": "python",
   "nbconvert_exporter": "python",
   "pygments_lexer": "ipython3",
   "version": "3.12.4"
  }
 },
 "nbformat": 4,
 "nbformat_minor": 5
}
