{
 "cells": [
  {
   "cell_type": "code",
   "execution_count": 4,
   "id": "6e8723a6-2472-43e7-a387-86fe2eef6a84",
   "metadata": {},
   "outputs": [],
   "source": [
    "import pandas as pd\n",
    "import numpy as np\n",
    "from sklearn.model_selection import train_test_split\n",
    "from sklearn.preprocessing import StandardScaler, LabelEncoder\n",
    "from sklearn.ensemble import RandomForestClassifier\n",
    "from sklearn.metrics import classification_report, confusion_matrix, roc_auc_score, roc_curve\n",
    "import matplotlib.pyplot as plt\n",
    "from tensorflow.keras.models import Sequential\n",
    "from tensorflow.keras.layers import Dense, Dropout, Input\n",
    "from tensorflow.keras.optimizers import Adam\n",
    "from imblearn.over_sampling import SMOTE\n"
   ]
  },
  {
   "cell_type": "code",
   "execution_count": 5,
   "id": "354ea62c-1141-47bf-9a43-93d74ef293ce",
   "metadata": {},
   "outputs": [
    {
     "name": "stdout",
     "output_type": "stream",
     "text": [
      "   age        job  marital    education  default housing loan    contact  \\\n",
      "0   56  housemaid  married     basic.4y       no      no   no  telephone   \n",
      "1   57   services  married  high.school  unknown      no   no  telephone   \n",
      "2   37   services  married  high.school       no     yes   no  telephone   \n",
      "3   40     admin.  married     basic.6y       no      no   no  telephone   \n",
      "4   56   services  married  high.school       no      no  yes  telephone   \n",
      "\n",
      "  month day_of_week  ...  campaign  pdays  previous     poutcome emp.var.rate  \\\n",
      "0   may         mon  ...         1    999         0  nonexistent          1.1   \n",
      "1   may         mon  ...         1    999         0  nonexistent          1.1   \n",
      "2   may         mon  ...         1    999         0  nonexistent          1.1   \n",
      "3   may         mon  ...         1    999         0  nonexistent          1.1   \n",
      "4   may         mon  ...         1    999         0  nonexistent          1.1   \n",
      "\n",
      "   cons.price.idx  cons.conf.idx  euribor3m  nr.employed   y  \n",
      "0          93.994          -36.4      4.857       5191.0  no  \n",
      "1          93.994          -36.4      4.857       5191.0  no  \n",
      "2          93.994          -36.4      4.857       5191.0  no  \n",
      "3          93.994          -36.4      4.857       5191.0  no  \n",
      "4          93.994          -36.4      4.857       5191.0  no  \n",
      "\n",
      "[5 rows x 21 columns]\n"
     ]
    }
   ],
   "source": [
    "#Load the dataset\n",
    "dataset = 'bank-additional-full.csv'\n",
    "data = pd.read_csv(dataset, delimiter=';')\n",
    "\n",
    "print(data.head())\n"
   ]
  },
  {
   "cell_type": "code",
   "execution_count": 8,
   "id": "211ba0d3-ee86-4c0c-9856-53b63e5960f3",
   "metadata": {},
   "outputs": [],
   "source": [
    "# Target variable encoding \n",
    "data['y'] = LabelEncoder().fit_transform(data['y'])\n",
    "\n",
    "# Convert categorical features to dummy variables\n",
    "data = pd.get_dummies(data, drop_first=True)\n",
    "\n",
    "# Separate features and target variable\n",
    "X = data.drop(columns=['y'])\n",
    "y = data['y']\n",
    "\n",
    "# Split dataset into train and test sets\n",
    "X_train, X_test, y_train, y_test = train_test_split(X, y, test_size=0.2, random_state=42, stratify=y)\n"
   ]
  },
  {
   "cell_type": "code",
   "execution_count": 10,
   "id": "d0303bad-83d0-4c59-a9e0-e8862e0a0ef0",
   "metadata": {},
   "outputs": [],
   "source": [
    "# Scale numerical features\n",
    "scaler = StandardScaler()\n",
    "X_train = scaler.fit_transform(X_train)\n",
    "X_test = scaler.transform(X_test)\n",
    "\n",
    "# Handle class imbalance using SMOTE (Synthetic Minority Over-sampling Technique)\n",
    "smote = SMOTE(random_state=42)\n",
    "X_train_resampled, y_train_resampled = smote.fit_resample(X_train, y_train)\n"
   ]
  },
  {
   "cell_type": "code",
   "execution_count": 12,
   "id": "3223390b-a9b3-42ac-9a3f-167e94670b48",
   "metadata": {},
   "outputs": [
    {
     "name": "stdout",
     "output_type": "stream",
     "text": [
      "\n",
      "Random Forest Predictions:\n",
      "    Actual  Predicted  Probability\n",
      "0       0          0         0.01\n",
      "1       0          0         0.11\n",
      "2       0          0         0.33\n",
      "3       0          0         0.00\n",
      "4       0          0         0.46\n"
     ]
    }
   ],
   "source": [
    "# Random Forest Model with class weighting\n",
    "RandomForest = RandomForestClassifier(n_estimators=100, random_state=42, class_weight='balanced')\n",
    "RandomForest.fit(X_train_resampled, y_train_resampled)\n",
    "\n",
    "# Evaluate Random Forest\n",
    "RandomForest_predi_labels = RandomForest.predict(X_test)\n",
    "RandomForest_predi_prob = RandomForest.predict_proba(X_test)[:, 1]\n",
    "\n",
    "\n",
    "# Display Random Forest Predictions\n",
    "RandomForestPrediction = pd.DataFrame({\n",
    "    'Actual': y_test.values,\n",
    "    'Predicted': RandomForest_predi_labels,\n",
    "    'Probability': RandomForest_predi_prob\n",
    "})\n",
    "print(\"\\nRandom Forest Predictions:\\n\", RandomForestPrediction.head())\n"
   ]
  },
  {
   "cell_type": "code",
   "execution_count": 18,
   "id": "64b41086-7488-414c-a28b-38eac812a5d6",
   "metadata": {},
   "outputs": [
    {
     "name": "stdout",
     "output_type": "stream",
     "text": [
      "\u001b[1m258/258\u001b[0m \u001b[32m━━━━━━━━━━━━━━━━━━━━\u001b[0m\u001b[37m\u001b[0m \u001b[1m0s\u001b[0m 944us/step\n",
      "\n",
      "Neural Network Predictions:\n",
      "    Actual  Predicted   Probability\n",
      "0       0          0  7.565607e-12\n",
      "1       0          0  1.424003e-03\n",
      "2       0          1  7.519844e-01\n",
      "3       0          0  1.217854e-15\n",
      "4       0          1  9.935588e-01\n"
     ]
    }
   ],
   "source": [
    "# Neural Network Model with class weights\n",
    "NeuralNetwork = Sequential([\n",
    "    Input(shape=(X_train.shape[1],)),\n",
    "    Dense(64, activation='relu'),\n",
    "    Dropout(0.2),\n",
    "    Dense(32, activation='relu'),\n",
    "    Dropout(0.2),\n",
    "    Dense(1, activation='sigmoid')\n",
    "])\n",
    "\n",
    "# Compile the model with class weights\n",
    "class_weights = {0: 1, 1: 10} \n",
    "NeuralNetwork.compile(optimizer=Adam(learning_rate=0.001), loss='binary_crossentropy', metrics=['accuracy'])\n",
    "\n",
    "# Train the model\n",
    "NeuralNetwork.fit(X_train_resampled, y_train_resampled, epochs=20, batch_size=32, validation_split=0.2, class_weight=class_weights, verbose=0)\n",
    "\n",
    "# Evaluate Neural Network\n",
    "NeuralNetwork_predi_prob = NeuralNetwork.predict(X_test).flatten()\n",
    "NeuralNetwork_predi_labels = (NeuralNetwork_predi_prob > 0.5).astype(int)\n",
    "\n",
    "\n",
    "# Display Neural Network Predictions\n",
    "NeuralNetworkPrediction = pd.DataFrame({\n",
    "    'Actual': y_test.values,\n",
    "    'Predicted': NeuralNetwork_predi_labels,\n",
    "    'Probability': NeuralNetwork_predi_prob\n",
    "})\n",
    "print(\"\\nNeural Network Predictions:\\n\", NeuralNetworkPrediction.head())\n"
   ]
  },
  {
   "cell_type": "code",
   "execution_count": 15,
   "id": "c08aaaf8-40a7-43b1-bfcd-b8f5c6d29413",
   "metadata": {},
   "outputs": [
    {
     "name": "stdout",
     "output_type": "stream",
     "text": [
      "\n",
      "Random Forest Classification Report:\n",
      "               precision    recall  f1-score   support\n",
      "\n",
      "           0       0.96      0.95      0.95      7310\n",
      "           1       0.62      0.66      0.64       928\n",
      "\n",
      "    accuracy                           0.92      8238\n",
      "   macro avg       0.79      0.80      0.79      8238\n",
      "weighted avg       0.92      0.92      0.92      8238\n",
      "\n",
      "\n",
      "Neural Network Classification Report:\n",
      "               precision    recall  f1-score   support\n",
      "\n",
      "           0       0.99      0.80      0.88      7310\n",
      "           1       0.37      0.96      0.54       928\n",
      "\n",
      "    accuracy                           0.82      8238\n",
      "   macro avg       0.68      0.88      0.71      8238\n",
      "weighted avg       0.92      0.82      0.85      8238\n",
      "\n"
     ]
    }
   ],
   "source": [
    "# Evaluation Metrics for both models\n",
    "print(\"\\nRandom Forest Classification Report:\\n\", classification_report(y_test, RandomForest_predi_labels))\n",
    "print(\"\\nNeural Network Classification Report:\\n\", classification_report(y_test, NeuralNetwork_predi_labels))\n"
   ]
  },
  {
   "cell_type": "code",
   "execution_count": 19,
   "id": "a82bb7c0-edee-4978-9c85-84c978642635",
   "metadata": {},
   "outputs": [
    {
     "data": {
      "image/png": "[encoded data removed]",
      "text/plain": [
       "<Figure size 1000x600 with 1 Axes>"
      ]
     },
     "metadata": {},
     "output_type": "display_data"
    }
   ],
   "source": [
    "# Plot Receiver Operating Characteristic (ROC)Curve for both models with False Positive Rate(FPR) and True Positive Rate(TPR)\n",
    "RandomForest_FTR, RandomForest_TPR, _ = roc_curve(y_test, RandomForest_predi_prob)\n",
    "NeuralNetwork_FTR, NeuralNetwork_TPR, _ = roc_curve(y_test, NeuralNetwork_predi_prob)\n",
    "\n",
    "plt.figure(figsize=(10, 6))\n",
    "plt.plot(RandomForest_FTR, RandomForest_TPR, label='Random Forest (AUC = {:.2f})'.format(roc_auc_score(y_test, RandomForest_predi_prob)))\n",
    "plt.plot(NeuralNetwork_FTR, NeuralNetwork_TPR, label='Neural Network (AUC = {:.2f})'.format(roc_auc_score(y_test, NeuralNetwork_predi_prob)))\n",
    "plt.plot([0, 1], [0, 1], 'k--', label='Chance')\n",
    "plt.xlabel('False Positive Rate')\n",
    "plt.ylabel('True Positive Rate')\n",
    "plt.title('ROC Curve')\n",
    "plt.legend()\n",
    "plt.show()\n"
   ]
  },
  {
   "cell_type": "code",
   "execution_count": 22,
   "id": "159e3faa-74cf-4c42-94bc-7011f0825c26",
   "metadata": {},
   "outputs": [],
   "source": [
    "# Predict New Inputs\n",
    "def predict_new_data(model, new_data, scaler=None, is_nn=False):\n",
    "    new_data = pd.get_dummies(new_data, drop_first=True)\n",
    "    new_data = new_data.reindex(columns=X.columns, fill_value=0)\n",
    "    if scaler:\n",
    "        new_data = scaler.transform(new_data)\n",
    "    if is_nn:\n",
    "        probabilities = model.predict(new_data).flatten()\n",
    "    else:\n",
    "        probabilities = model.predict_proba(new_data)[:, 1]\n",
    "    predictions = (probabilities > 0.5).astype(int)\n",
    "    return predictions, probabilities"
   ]
  },
  {
   "cell_type": "code",
   "execution_count": 24,
   "id": "86a4263a-0ec8-4867-bd3c-27fce28c9a2b",
   "metadata": {},
   "outputs": [],
   "source": [
    "# Example client data for prediction\n",
    "client = pd.DataFrame([\n",
    "    {'age': 35, 'job': 'technician', 'marital': 'single', 'education': 'university.degree', 'default': 'no', 'housing': 'yes', 'loan': 'no', 'contact': 'cellular', 'month': 'may', 'day_of_week': 'mon', 'campaign': 1, 'pdays': 999, 'previous': 0, 'poutcome': 'nonexistent', 'emp.var.rate': 1.1, 'cons.price.idx': 93.994, 'cons.conf.idx': -36.4, 'euribor3m': 4.857, 'nr.employed': 5191},\n",
    "    {'age': 40, 'job': 'services', 'marital': 'married', 'education': 'high.school', 'default': 'no', 'housing': 'yes', 'loan': 'yes', 'contact': 'telephone', 'month': 'jul', 'day_of_week': 'tue', 'campaign': 2, 'pdays': 999, 'previous': 1, 'poutcome': 'failure', 'emp.var.rate': 1.3, 'cons.price.idx': 92.302, 'cons.conf.idx': -41.8, 'euribor3m': 4.963, 'nr.employed': 5099},\n",
    "    {'age': 55, 'job': 'blue-collar', 'marital': 'divorced', 'education': 'basic.6y', 'default': 'yes', 'housing': 'no', 'loan': 'yes', 'contact': 'cellular', 'month': 'aug', 'day_of_week': 'wed', 'campaign': 3, 'pdays': 999, 'previous': 0, 'poutcome': 'nonexistent', 'emp.var.rate': -1.8, 'cons.price.idx': 93.200, 'cons.conf.idx': -44.0, 'euribor3m': 4.855, 'nr.employed': 5000},\n",
    "    {'age': 30, 'job': 'student', 'marital': 'single', 'education': 'high.school', 'default': 'no', 'housing': 'yes', 'loan': 'no', 'contact': 'telephone', 'month': 'oct', 'day_of_week': 'fri', 'campaign': 1, 'pdays': 999, 'previous': 0, 'poutcome': 'nonexistent', 'emp.var.rate': 1.4, 'cons.price.idx': 94.077, 'cons.conf.idx': -34.3, 'euribor3m': 4.981, 'nr.employed': 5234},\n",
    "    {'age': 45, 'job': 'admin.', 'marital': 'married', 'education': 'university.degree', 'default': 'no', 'housing': 'yes', 'loan': 'yes', 'contact': 'cellular', 'month': 'nov', 'day_of_week': 'thu', 'campaign': 2, 'pdays': 999, 'previous': 1, 'poutcome': 'success', 'emp.var.rate': -0.9, 'cons.price.idx': 92.475, 'cons.conf.idx': -38.0, 'euribor3m': 5.045, 'nr.employed': 5100},\n",
    "    {'age': 60, 'job': 'retired', 'marital': 'widowed', 'education': 'basic.4y', 'default': 'no', 'housing': 'no', 'loan': 'no', 'contact': 'cellular', 'month': 'dec', 'day_of_week': 'mon', 'campaign': 3, 'pdays': 999, 'previous': 2, 'poutcome': 'failure', 'emp.var.rate': 0.2, 'cons.price.idx': 93.611, 'cons.conf.idx': -37.5, 'euribor3m': 4.787, 'nr.employed': 5072},\n",
    "    {'age': 25, 'job': 'student', 'marital': 'single', 'education': 'high.school', 'default': 'no', 'housing': 'yes', 'loan': 'no', 'contact': 'cellular', 'month': 'feb', 'day_of_week': 'mon', 'campaign': 1, 'pdays': 999, 'previous': 0, 'poutcome': 'nonexistent', 'emp.var.rate': 1.1, 'cons.price.idx': 94.255, 'cons.conf.idx': -35.0, 'euribor3m': 4.860, 'nr.employed': 5200}\n",
    "])\n"
   ]
  },
  {
   "cell_type": "code",
   "execution_count": 26,
   "id": "eb1efd16-3edb-4e27-8a77-b1ab523acff7",
   "metadata": {},
   "outputs": [
    {
     "name": "stdout",
     "output_type": "stream",
     "text": [
      "\u001b[1m1/1\u001b[0m \u001b[32m━━━━━━━━━━━━━━━━━━━━\u001b[0m\u001b[37m\u001b[0m \u001b[1m0s\u001b[0m 31ms/step\n",
      "\n",
      "Random Forest Predictions for New Data:\n",
      "[0 0 0 0 0 0 0]\n",
      "\n",
      "Neural Network Predictions for New Data:\n",
      "[0 0 0 0 0 0 0]\n"
     ]
    }
   ],
   "source": [
    "# Preprocess new data\n",
    "new_data_preprocessed = pd.get_dummies(client, drop_first=True)\n",
    "new_data_preprocessed = new_data_preprocessed.reindex(columns=X.columns, fill_value=0)\n",
    "\n",
    "# Scale the new data using the existing scaler\n",
    "new_data_scaled = scaler.transform(new_data_preprocessed)\n",
    "\n",
    "# Predictions from the Random Forest model\n",
    "RandomForestPrediction, RF_probabilities = predict_new_data(RandomForest, new_data_preprocessed, scaler, is_nn=False)\n",
    "\n",
    "# Predictions from the Neural Network model\n",
    "NeuralNetworkPrediction, NN_probabilities = predict_new_data(NeuralNetwork, new_data_preprocessed, scaler, is_nn=True)\n",
    "\n",
    "# Display predictions\n",
    "print(\"\\nRandom Forest Predictions for New Data:\")\n",
    "print(RandomForestPrediction)\n",
    "\n",
    "print(\"\\nNeural Network Predictions for New Data:\")\n",
    "print(NeuralNetworkPrediction)\n"
   ]
  },
  {
   "cell_type": "code",
   "execution_count": 39,
   "id": "2c37fded-c8d3-4e7c-ab4e-d23f28a6631d",
   "metadata": {},
   "outputs": [
    {
     "name": "stdout",
     "output_type": "stream",
     "text": [
      "[main 3fc7235] Updated MLCW notebook with new changes\n",
      " 2 files changed, 657 insertions(+), 191 deletions(-)\n",
      " create mode 100644 .ipynb_checkpoints/MLCW-checkpoint.ipynb\n"
     ]
    },
    {
     "name": "stderr",
     "output_type": "stream",
     "text": [
      "To https://github.com/20031115dasun/Subscription.git\n",
      "   04d9a8c..3fc7235  main -> main\n"
     ]
    }
   ],
   "source": [
    "!git add .ipynb_checkpoints/MLCW-checkpoint.ipynb \n",
    "!git commit -m \"Updated MLCW notebook with new changes\"\n",
    "!git push origin main\n",
    "\n"
   ]
  }
 ],
 "metadata": {
  "kernelspec": {
   "display_name": "Python 3 (ipykernel)",
   "language": "python",
   "name": "python3"
  },
  "language_info": {
   "codemirror_mode": {
    "name": "ipython",
    "version": 3
   },
   "file_extension": ".py",
   "mimetype": "text/x-python",
   "name": "python",
   "nbconvert_exporter": "python",
   "pygments_lexer": "ipython3",
   "version": "3.12.4"
  }
 },
 "nbformat": 4,
 "nbformat_minor": 5
}
